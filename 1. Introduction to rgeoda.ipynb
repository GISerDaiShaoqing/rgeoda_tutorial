{
 "cells": [
  {
   "cell_type": "markdown",
   "metadata": {},
   "source": [
    "# Install rgeoda for R"
   ]
  },
  {
   "cell_type": "markdown",
   "metadata": {},
   "source": [
    "rgeoda is a R package that wraps all core functions of spatial data analysis in GeoDa and libgeoda. Unlike the desktop software GeoDa, libgeoda is a non-UI and feature focused C++ library that is designed for programmers to do spatial data analysis using their favoriate programming languages (R, Python, Java etc.). It also aims to be easily integratd with other libraries, softwares or systems on different platforms.\n",
    "\n",
    "For testing stage, the easiest way to install the development version of rgeoda is using rgeoda's source package:\n",
    "`install.packages(\"https://github.com/lixun910/rgeoda/archive/0.0.1.tar.gz\")`\n",
    "\n",
    "For windows R users, please use the following source package:\n",
    "`install.packages(\"https://github.com/lixun910/rgeoda/releases/download/0.0.1/win.zip\")`\n",
    "\n",
    "If everything installed without error, you should be able to load rgeoda:"
   ]
  },
  {
   "cell_type": "raw",
   "metadata": {},
   "source": [
    "library(rgeoda)"
   ]
  },
  {
   "cell_type": "markdown",
   "metadata": {},
   "source": [
    "# Load Geospatial Data"
   ]
  },
  {
   "cell_type": "markdown",
   "metadata": {},
   "source": [
    "In this note, we will use an ESRI Shapefile natregimes.shp comes with the package:"
   ]
  },
  {
   "cell_type": "code",
   "execution_count": null,
   "metadata": {},
   "outputs": [],
   "source": [
    "nat_path <- system.file(\"extdata\", \"natregimes.shp\", package = \"rgeoda\")"
   ]
  },
  {
   "cell_type": "markdown",
   "metadata": {},
   "source": [
    "Use the path above (or the path to your own dataset), we can create a GeoDa instance, and the GeoDa instance is the main entry point of rgeoda."
   ]
  },
  {
   "cell_type": "code",
   "execution_count": null,
   "metadata": {},
   "outputs": [],
   "source": [
    "num_obs <- gda$GetNumObs()\n",
    "num_cols <- gda$GetNumCols()\n",
    "field_types <- gda$GetFieldTypes()\n",
    "field_names <- gda$GetFieldNames()"
   ]
  },
  {
   "cell_type": "markdown",
   "metadata": {},
   "source": [
    "# Access Table Data"
   ]
  },
  {
   "cell_type": "markdown",
   "metadata": {},
   "source": [
    "One can call function `GetNumericCol(string col_name)` to get numeric data (vector type) from GeoDa instance. For example, to get data of column “HR60”:"
   ]
  },
  {
   "cell_type": "code",
   "execution_count": null,
   "metadata": {},
   "outputs": [],
   "source": [
    "hr60 <- gda$GetNumericCol(\"HR60\")"
   ]
  },
  {
   "cell_type": "markdown",
   "metadata": {},
   "source": [
    "# Spatial Weights"
   ]
  },
  {
   "cell_type": "markdown",
   "metadata": {},
   "source": [
    "One can call function `CreateContiguityWeights(string poly_id=\"\", bool is_queen=true, int order=1, bool include_lower_order=false)` to create a Queen or Rook contiguity weights:"
   ]
  },
  {
   "cell_type": "code",
   "execution_count": null,
   "metadata": {},
   "outputs": [],
   "source": [
    "queen_w <- gda$CreateContiguityWeights(is_queen=TRUE)"
   ]
  },
  {
   "cell_type": "markdown",
   "metadata": {},
   "source": [
    "To access the properties of the created weights object, one can just access the attributes of the returned weights object queen_w:"
   ]
  },
  {
   "cell_type": "code",
   "execution_count": null,
   "metadata": {},
   "outputs": [],
   "source": [
    "cat(\"weight_type: \", queen_w$weight_type, \n",
    "    \"\\nis_symmetric: \", queen_w$is_symmetric, \n",
    "    \"\\nsparsity:\",queen_w$sparsity,\n",
    "    \"\\ndensity:\",queen_w$density, \n",
    "    \"\\nmin_nbrs:\",queen_w$min_nbrs, \n",
    "    \"\\nmax_nbrs:\",queen_w$max_nbrs,\n",
    "    \"\\nmean_nbrs:\",queen_w$mean_nbrs, \n",
    "    \"\\nmedian_nbrs:\",queen_w$median_nbrs, \"\\n\")"
   ]
  },
  {
   "cell_type": "markdown",
   "metadata": {},
   "source": [
    "# Spatial Data Analysis"
   ]
  },
  {
   "cell_type": "markdown",
   "metadata": {},
   "source": [
    "## Local Spatial Autocorrelation"
   ]
  },
  {
   "cell_type": "markdown",
   "metadata": {},
   "source": [
    "Using the created Queen weights queen_w and the data hr60, we can call function `LISA(GeoDaWeight w, vector data)` to compute the local spatial autocorrelation of variable “HR60”."
   ]
  },
  {
   "cell_type": "code",
   "execution_count": null,
   "metadata": {},
   "outputs": [],
   "source": [
    "lisa <- gda$LISA(queen_w, hr60)"
   ]
  },
  {
   "cell_type": "markdown",
   "metadata": {},
   "source": [
    "We can access the LISA results by calling the “getter” methods from the returned LISA object:"
   ]
  },
  {
   "cell_type": "code",
   "execution_count": null,
   "metadata": {},
   "outputs": [],
   "source": [
    "lags <- lisa$GetLagValues()\n",
    "lags[1:20]"
   ]
  },
  {
   "cell_type": "markdown",
   "metadata": {},
   "source": [
    "Get local moran values:"
   ]
  },
  {
   "cell_type": "code",
   "execution_count": null,
   "metadata": {},
   "outputs": [],
   "source": [
    "lms <- lisa$GetLocalMoranValues()\n",
    "lms[1:20]"
   ]
  },
  {
   "cell_type": "markdown",
   "metadata": {},
   "source": [
    "Get pseudo-p values:"
   ]
  },
  {
   "cell_type": "code",
   "execution_count": null,
   "metadata": {},
   "outputs": [],
   "source": [
    "pvals <- lisa$GetLocalSignificanceValues()\n",
    "pvals[1:20]"
   ]
  },
  {
   "cell_type": "markdown",
   "metadata": {},
   "source": [
    "Get LISA category values:"
   ]
  },
  {
   "cell_type": "code",
   "execution_count": null,
   "metadata": {},
   "outputs": [],
   "source": [
    "cats <- lisa$GetClusterIndicators()\n",
    "cats[1:20]"
   ]
  },
  {
   "cell_type": "markdown",
   "metadata": {},
   "source": [
    "You can easily re-run the LISA computation by calling its Run() function. For example, re-run the above LISA exampe using 9999 permutations:"
   ]
  },
  {
   "cell_type": "code",
   "execution_count": null,
   "metadata": {},
   "outputs": [],
   "source": [
    "lisa$SetNumPermutations(9999)\n",
    "lisa$Run()"
   ]
  },
  {
   "cell_type": "markdown",
   "metadata": {},
   "source": [
    "Display the p-values after 9999 permutations:"
   ]
  },
  {
   "cell_type": "code",
   "execution_count": null,
   "metadata": {},
   "outputs": [],
   "source": [
    "pvals <- lisa$GetLocalSignificanceValues()\n",
    "pvals[1:20]"
   ]
  },
  {
   "cell_type": "markdown",
   "metadata": {},
   "source": [
    "Since rgeoda is using GeoDa’s C++ code, by default, rgeoda uses multi-threading to accelerate the computation of Local Moran. One can also specify how many threads to run the computation:"
   ]
  },
  {
   "cell_type": "code",
   "execution_count": null,
   "metadata": {},
   "outputs": [],
   "source": [
    "lisa$SetNumThreads(4)\n",
    "lisa$Run()"
   ]
  },
  {
   "cell_type": "markdown",
   "metadata": {},
   "source": [
    "Display the p-values after re-run LISA with 4 threads:"
   ]
  },
  {
   "cell_type": "code",
   "execution_count": null,
   "metadata": {},
   "outputs": [],
   "source": [
    "pvals <- lisa$GetLocalSignificanceValues()\n",
    "pvals[1:20]"
   ]
  },
  {
   "cell_type": "markdown",
   "metadata": {},
   "source": [
    "# Clustering\n",
    "\n",
    "## SKATER\n",
    "\n",
    "Using the function `SKATER(int k, GeoDaWeight w, Vector column_names, String distance_method='euclidean')` to run a spatially constrained clustering on current dataset."
   ]
  },
  {
   "cell_type": "code",
   "execution_count": null,
   "metadata": {},
   "outputs": [],
   "source": [
    "skater <- gda$SKATER(10, queen_w, c(\"HR60\", \"PO60\"))\n",
    "skater"
   ]
  }
 ],
 "metadata": {
  "kernelspec": {
   "display_name": "R",
   "language": "R",
   "name": "ir"
  }
 },
 "nbformat": 4,
 "nbformat_minor": 2
}
