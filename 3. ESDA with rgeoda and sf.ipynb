{
 "cells": [
  {
   "cell_type": "markdown",
   "metadata": {},
   "source": [
    "Previous R note shows you:\n",
    "\n",
    "1. how to do ESDA with rGeoDa and sp by computing the local spatial statistics (LISA) of variable hr60 and creating a LISA cluster map.\n",
    "\n",
    "Another modern and popular routine for spatial data analysis with R is to use sf library to process geospatial dataset, analyze spatial data and plot the results on maps.\n",
    "\n",
    "rgeoda also provides utility functions to create a rgeoda instance from sf object.\n",
    "\n",
    "In this note, I will demonstrate how to work with sf and rgeoda packages to do exploratory spatial data analysis.\n",
    "\n",
    "# 1. Start from sf package\n",
    "\n",
    "The sf package has been popular tool to handle geospatial data. It is a good substitue of sp package which will be deprecated soon.\n",
    "\n",
    "One can use sf to load geospatial data (e.g. a ESRI Shapefile) directly:"
   ]
  },
  {
   "cell_type": "code",
   "execution_count": null,
   "metadata": {},
   "outputs": [],
   "source": [
    "library(rgeoda)\n",
    "guerry_path <- system.file(\"extdata\", \"Guerry.shp\", package = \"rgeoda\")"
   ]
  },
  {
   "cell_type": "code",
   "execution_count": null,
   "metadata": {},
   "outputs": [],
   "source": [
    "library(sf)"
   ]
  },
  {
   "cell_type": "markdown",
   "metadata": {},
   "source": [
    "Using `st_read()` function to read Guerry.shp file and this function will returns an `sf` object."
   ]
  },
  {
   "cell_type": "code",
   "execution_count": null,
   "metadata": {},
   "outputs": [],
   "source": [
    "guerry_sf <- st_read(guerry_path)"
   ]
  },
  {
   "cell_type": "markdown",
   "metadata": {},
   "source": [
    "You can simply call plot() function to render the first 9 chorepleth maps using the frist 9 variables in the dataset:\n",
    "\n"
   ]
  },
  {
   "cell_type": "code",
   "execution_count": null,
   "metadata": {},
   "outputs": [],
   "source": [
    "plot(guerry_sf)"
   ]
  },
  {
   "cell_type": "markdown",
   "metadata": {},
   "source": [
    "# 2. Create rgeoda object from sf\n",
    "\n",
    "sf package makes it easy to work with geospatial data. It also provides functions to do basic spatial data analysis. rgeoda provides helper function `sf_to_geoda` to create a GeoDa instance from a sf object. Users can then call GeoDa functions to do further spatial data analysis.\n",
    "\n"
   ]
  },
  {
   "cell_type": "code",
   "execution_count": null,
   "metadata": {},
   "outputs": [],
   "source": [
    "guerry_gda <- sf_to_geoda(guerry_sf)\n"
   ]
  },
  {
   "cell_type": "markdown",
   "metadata": {},
   "source": [
    "rgeoda uses wkb, which is a binary representation of geometries, to exchange data between sf and libgeoda in memory.\n",
    "\n",
    "# 3. ESDA with rgeoda\n",
    "\n",
    "Now, with the rgeoda object `guerry_gda`, you can call GeoDa’s spatial analysis functions. For example, to examine the local Moran of variable “crm_prs” (Population per Crime against persons):\n",
    "\n"
   ]
  },
  {
   "cell_type": "code",
   "execution_count": null,
   "metadata": {},
   "outputs": [],
   "source": [
    "queen_w <- guerry_gda$CreateContiguityWeights()\n",
    "crm_lisa <- guerry_gda$LISA(queen_w, as.numeric(paste(guerry_sf$Crm_prs)))\n",
    "crm_lisa_clusters <- crm_lisa$GetClusterIndicators()"
   ]
  },
  {
   "cell_type": "markdown",
   "metadata": {},
   "source": [
    "Now, with the LISA results, we can do exploratory spatial data analysis by generating a LISA cluster map:\n",
    "\n"
   ]
  },
  {
   "cell_type": "code",
   "execution_count": null,
   "metadata": {},
   "outputs": [],
   "source": [
    "colors <- sapply(crm_lisa_clusters, function(x){return(lisa_colors[[x+1]])})\n",
    "plot(st_geometry(guerry_sf), col = colors, border = \"#333333\", lwd=0.2)\n",
    "title(main = \"LISA of crm_prs\")\n",
    "legend('bottomright', legend = lisa_labels, \n",
    "       fill = lisa_colors, border = \"#eeeeee\")"
   ]
  },
  {
   "cell_type": "markdown",
   "metadata": {},
   "source": [
    "From the above code, you can see that we still use `sf` object to do plotting. The values of cluster indicators from rgeoda’s LISA object are used to make the LISA map.\n",
    "\n",
    "You can easily append the lisa results to original sf object by manipulating the data.frame object inside the sf object.\n",
    "\n",
    "We then create an array of hex color, each observation is set to a hex color according to its cluster indicator value."
   ]
  },
  {
   "cell_type": "code",
   "execution_count": null,
   "metadata": {},
   "outputs": [],
   "source": [
    "sapply(crm_lisa_clusters, function(x){return(lisa_colors[[x+1]])})\n"
   ]
  },
  {
   "cell_type": "markdown",
   "metadata": {},
   "source": [
    "If you check the values of the cluster indicators, you will see they are integer numbers 0 (not significant), 1 (high-high cluster), 2 (low-low cluster), 3 (low-high cluster), 4 (high-low cluster), 5 (neighborless/island), 6 (undefined), which are excatly the same with GeoDa software when you save LISA results to a table:"
   ]
  },
  {
   "cell_type": "code",
   "execution_count": null,
   "metadata": {},
   "outputs": [],
   "source": [
    "crm_lisa_clusters"
   ]
  },
  {
   "cell_type": "markdown",
   "metadata": {},
   "source": [
    "We also specify what color is associated with which cluster value to replace the lisa_colors and lisa_labels, which are defined in sf_geoda.R:\n",
    "\n",
    "'''\n",
    "lisa_colors <- c(\"#eeeeee\",\"#FF0000\",\"#0000FF\",\"#a7adf9\", \"#f4ada8\", \"#999999\")\n",
    "'''"
   ]
  }
 ],
 "metadata": {
  "kernelspec": {
   "display_name": "R",
   "language": "R",
   "name": "ir"
  }
 },
 "nbformat": 4,
 "nbformat_minor": 2
}
